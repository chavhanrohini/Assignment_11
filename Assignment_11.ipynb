{
 "cells": [
  {
   "cell_type": "markdown",
   "id": "cd8148a1",
   "metadata": {},
   "source": [
    "## 1.Create an assert statement that throws an AssertionError if the variable spam is a negative integer."
   ]
  },
  {
   "cell_type": "code",
   "execution_count": null,
   "id": "f9cd54ab",
   "metadata": {},
   "outputs": [],
   "source": [
    "assert spam >= 0, \"spam must be a non-negative integer\"\n"
   ]
  },
  {
   "cell_type": "markdown",
   "id": "9374f08a",
   "metadata": {},
   "source": [
    "## 2. Write an assert statement that triggers an AssertionError if the variables eggs and bacon contain strings that are the same as each other, even if their cases are different."
   ]
  },
  {
   "cell_type": "code",
   "execution_count": null,
   "id": "708dfd3a",
   "metadata": {},
   "outputs": [],
   "source": [
    "assert eggs.lower() != bacon.lower(), \"eggs and bacon must be different (case-insensitive)\"\n"
   ]
  },
  {
   "cell_type": "markdown",
   "id": "3d674072",
   "metadata": {},
   "source": [
    "## 3. Create an assert statement that throws an AssertionError every time.\n",
    "\n",
    "You can use a simple condition that is always False to trigger an AssertionError every time:"
   ]
  },
  {
   "cell_type": "code",
   "execution_count": null,
   "id": "873b346b",
   "metadata": {},
   "outputs": [],
   "source": [
    "assert False, \"This assert statement always raises an AssertionError\"\n"
   ]
  },
  {
   "cell_type": "markdown",
   "id": "3f6b8260",
   "metadata": {},
   "source": [
    "## 4. What are the two lines that must be present in your software in order to call logging.debug()?"
   ]
  },
  {
   "cell_type": "code",
   "execution_count": 4,
   "id": "9dd36f78",
   "metadata": {},
   "outputs": [],
   "source": [
    "# To use the logging.debug() function, you need to import the logging module and configure the logging system.\n",
    "#Typically, the two lines you need are:\n",
    "\n",
    "import logging\n",
    "logging.basicConfig(level=logging.DEBUG)\n"
   ]
  },
  {
   "cell_type": "markdown",
   "id": "4be1aca7",
   "metadata": {},
   "source": [
    "## 5. What are the two lines that your program must have in order to have logging.debug() send a logging message to a file named programLog.txt?"
   ]
  },
  {
   "cell_type": "code",
   "execution_count": 6,
   "id": "3f24596a",
   "metadata": {},
   "outputs": [],
   "source": [
    "#To send logging messages to a file named programLog.txt,\n",
    "#you can configure the logging system like this:\n",
    "\n",
    "import logging\n",
    "\n",
    "# Configure logging to write to a file\n",
    "logging.basicConfig(filename='programLog.txt', level=logging.DEBUG)\n"
   ]
  },
  {
   "cell_type": "markdown",
   "id": "1e628376",
   "metadata": {},
   "source": [
    "## 6. What are the five levels of logging?\n",
    "\n",
    "The five levels of logging in Python, in increasing order of severity, are:\n",
    "\n",
    "DEBUG: Detailed information for debugging purposes.\n",
    "\n",
    "INFO: General information about the program's operation.\n",
    "\n",
    "WARNING: Indication of potential issues or unexpected behavior.\n",
    "\n",
    "ERROR: Indication of errors that caused the program to fail or behave incorrectly.\n",
    "\n",
    "CRITICAL: Severe errors that may lead to program termination."
   ]
  },
  {
   "cell_type": "markdown",
   "id": "0baab6f9",
   "metadata": {},
   "source": [
    "## 7.What line of code would you add to your software to disable all logging messages?\n",
    "\n",
    "To disable all logging messages, you can set the logging level to a higher value, such as logging.CRITICAL, like this:"
   ]
  },
  {
   "cell_type": "code",
   "execution_count": 8,
   "id": "3a9edc24",
   "metadata": {},
   "outputs": [],
   "source": [
    "logging.basicConfig(level=logging.CRITICAL)\n",
    "\n"
   ]
  },
  {
   "cell_type": "markdown",
   "id": "07ffefa0",
   "metadata": {},
   "source": [
    "## 8.Why is using logging messages better than using print() to display the same message?\n",
    "\n",
    "Logging messages offer several advantages over print() statements, including the ability to:\n",
    "\n",
    "Easily enable or disable log messages at different levels.\n",
    "\n",
    "Control where log messages are written (e.g., console, files).\n",
    "\n",
    "Specify log message severity levels.\n",
    "\n",
    "Add timestamps and other metadata to log messages.\n",
    "\n",
    "Collaborate with others using a standardized logging framework."
   ]
  },
  {
   "cell_type": "markdown",
   "id": "58520df8",
   "metadata": {},
   "source": [
    "## 9.What are the differences between the Step Over, Step In, and Step Out buttons in the debugger?\n",
    "\n",
    "Step Over: Executes the current line of code and stops at the next line. If the next line is a function call, it will not enter the function but will return after executing it.\n",
    "\n",
    "Step In: If the current line of code contains a function call, Step In will enter the function and stop at the first line of the function.\n",
    "\n",
    "Step Out: When you are inside a function, Step Out will execute the remaining lines of the function and return to the line that called the function."
   ]
  },
  {
   "cell_type": "markdown",
   "id": "37ca9f53",
   "metadata": {},
   "source": [
    "## 10. After you click Continue, when will the debugger stop?\n",
    "\n",
    "The debugger will stop when one of the following conditions is met:\n",
    "\n",
    "A breakpoint is encountered.\n",
    "\n",
    "An unhandled exception is raised.\n",
    "\n",
    "The program reaches its natural end (no more code to execute)."
   ]
  },
  {
   "cell_type": "markdown",
   "id": "b3e77a6a",
   "metadata": {},
   "source": [
    "# 11. What is the concept of a breakpoint?\n",
    "A breakpoint is a designated point in your code where the debugger will pause execution, allowing you to inspect variables, step through code, and analyze program behavior. Breakpoints are set by developers to facilitate debugging and are useful for identifying issues and understanding the flow of a program."
   ]
  },
  {
   "cell_type": "code",
   "execution_count": null,
   "id": "dbbd1e7c",
   "metadata": {},
   "outputs": [],
   "source": []
  }
 ],
 "metadata": {
  "kernelspec": {
   "display_name": "Python 3 (ipykernel)",
   "language": "python",
   "name": "python3"
  },
  "language_info": {
   "codemirror_mode": {
    "name": "ipython",
    "version": 3
   },
   "file_extension": ".py",
   "mimetype": "text/x-python",
   "name": "python",
   "nbconvert_exporter": "python",
   "pygments_lexer": "ipython3",
   "version": "3.9.12"
  }
 },
 "nbformat": 4,
 "nbformat_minor": 5
}
